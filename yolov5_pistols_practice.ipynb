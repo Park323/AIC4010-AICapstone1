{
  "nbformat": 4,
  "nbformat_minor": 0,
  "metadata": {
    "colab": {
      "name": "yolov5_pistols_practice.ipynb",
      "provenance": [],
      "collapsed_sections": [],
      "authorship_tag": "ABX9TyP932HnPsNbOxuxTCqsXN3Y",
      "include_colab_link": true
    },
    "kernelspec": {
      "name": "python3",
      "display_name": "Python 3"
    },
    "language_info": {
      "name": "python"
    },
    "accelerator": "GPU"
  },
  "cells": [
    {
      "cell_type": "markdown",
      "metadata": {
        "id": "view-in-github",
        "colab_type": "text"
      },
      "source": [
        "<a href=\"https://colab.research.google.com/github/Park323/AIC4010-AICapstone1/blob/main/yolov5_pistols_practice.ipynb\" target=\"_parent\"><img src=\"https://colab.research.google.com/assets/colab-badge.svg\" alt=\"Open In Colab\"/></a>"
      ]
    },
    {
      "cell_type": "markdown",
      "metadata": {
        "id": "fPjL_16VSapi"
      },
      "source": [
        "## Load the Data"
      ]
    },
    {
      "cell_type": "markdown",
      "metadata": {
        "id": "auzkeunoWOw9"
      },
      "source": [
        "__Load the model and data__"
      ]
    },
    {
      "cell_type": "code",
      "metadata": {
        "id": "KZJAzSdFSR6U"
      },
      "source": [
        "# Load Dataset from Roboflow\n",
        "%mkdir dataset\n",
        "%cd dataset\n",
        "!curl -L \"https://public.roboflow.com/ds/j8hfujlqjC?key=hc0ytPIUJR\" > roboflow.zip; unzip roboflow.zip; rm roboflow.zip\n",
        "\n",
        "# Load YOLO v5 Model from github\n",
        "%cd /content\n",
        "!git clone https://github.com/ultralytics/yolov5.git\n",
        "\n",
        "# Install packages for YOLO v5\n",
        "%cd /content/yolov5/\n",
        "! pip install -r requirements.txt"
      ],
      "execution_count": null,
      "outputs": []
    },
    {
      "cell_type": "code",
      "metadata": {
        "colab": {
          "base_uri": "https://localhost:8080/"
        },
        "id": "PJntxeAkVJ6_",
        "outputId": "60fa5f97-fdbe-43d9-ea15-8b79a4da3a78"
      },
      "source": [
        "%cd /\n",
        "from glob import glob\n",
        "\n",
        "# Load path of images on list\n",
        "img_list = glob('/content/dataset/export/images/*.jpg')\n",
        "\n",
        "print(len(img_list))"
      ],
      "execution_count": null,
      "outputs": [
        {
          "output_type": "stream",
          "name": "stdout",
          "text": [
            "/\n",
            "2971\n"
          ]
        }
      ]
    },
    {
      "cell_type": "markdown",
      "metadata": {
        "id": "3DtEsPK6WDiO"
      },
      "source": [
        "__Train / Test split__"
      ]
    },
    {
      "cell_type": "code",
      "metadata": {
        "colab": {
          "base_uri": "https://localhost:8080/"
        },
        "id": "RkXoeVkRV3if",
        "outputId": "c716bf9d-9b40-4ca6-f799-692034264ce3"
      },
      "source": [
        "from sklearn.model_selection import train_test_split\n",
        "\n",
        "train_img_list, val_img_list = train_test_split(img_list, test_size=0.2, random_state=1422)\n",
        "\n",
        "# Save the path of train/test images on text files\n",
        "with open('content/dataset/train.txt', 'w') as f:\n",
        "  f.write('\\n'.join(train_img_list)+'\\n')\n",
        "with open('content/dataset/val.txt', 'w') as f:\n",
        "  f.write('\\n'.join(val_img_list)+'\\n')\n",
        "\n",
        "print(len(train_img_list), len(val_img_list))"
      ],
      "execution_count": null,
      "outputs": [
        {
          "output_type": "stream",
          "name": "stdout",
          "text": [
            "2376 595\n"
          ]
        }
      ]
    },
    {
      "cell_type": "markdown",
      "metadata": {
        "id": "uwsCTa6OWwd7"
      },
      "source": [
        "__Set the path of data in .yaml__"
      ]
    },
    {
      "cell_type": "code",
      "metadata": {
        "colab": {
          "base_uri": "https://localhost:8080/"
        },
        "id": "qah8nnCmWv7s",
        "outputId": "3358ef5f-01af-44be-cdc4-cd429609aa2d"
      },
      "source": [
        "%cat /content/dataset/data.yaml"
      ],
      "execution_count": null,
      "outputs": [
        {
          "output_type": "stream",
          "name": "stdout",
          "text": [
            "train: ../train/images\n",
            "val: ../valid/images\n",
            "\n",
            "nc: 1\n",
            "names: ['pistol']"
          ]
        }
      ]
    },
    {
      "cell_type": "code",
      "metadata": {
        "colab": {
          "base_uri": "https://localhost:8080/"
        },
        "id": "ptOgTAX7WCjP",
        "outputId": "5422dbb7-71d9-4bc6-93f2-bcdc27ad2134"
      },
      "source": [
        "import yaml\n",
        "\n",
        "with open('/content/dataset/data.yaml', 'r') as f:\n",
        "  data = yaml.load(f)\n",
        "\n",
        "print(data)\n",
        "\n",
        "data['train'] = '/content/dataset/train.txt'\n",
        "data['val'] = '/content/dataset/val.txt'\n",
        "\n",
        "with open('/content/dataset/data.yaml', 'w') as f:\n",
        "  yaml.dump(data, f)\n",
        "\n",
        "print(data)"
      ],
      "execution_count": null,
      "outputs": [
        {
          "output_type": "stream",
          "name": "stdout",
          "text": [
            "{'train': '../train/images', 'val': '../valid/images', 'nc': 1, 'names': ['pistol']}\n",
            "{'train': '/content/dataset/train.txt', 'val': '/content/dataset/val.txt', 'nc': 1, 'names': ['pistol']}\n"
          ]
        },
        {
          "output_type": "stream",
          "name": "stderr",
          "text": [
            "/usr/local/lib/python3.7/dist-packages/ipykernel_launcher.py:4: YAMLLoadWarning: calling yaml.load() without Loader=... is deprecated, as the default Loader is unsafe. Please read https://msg.pyyaml.org/load for full details.\n",
            "  after removing the cwd from sys.path.\n"
          ]
        }
      ]
    },
    {
      "cell_type": "code",
      "metadata": {
        "colab": {
          "base_uri": "https://localhost:8080/"
        },
        "id": "a9q6mnvuW-pD",
        "outputId": "7dfe5f03-9c95-4533-b2a1-dcb4b3360814"
      },
      "source": [
        "%cat /content/dataset/data.yaml"
      ],
      "execution_count": null,
      "outputs": [
        {
          "output_type": "stream",
          "name": "stdout",
          "text": [
            "names:\n",
            "- pistol\n",
            "nc: 1\n",
            "train: /content/dataset/train.txt\n",
            "val: /content/dataset/val.txt\n"
          ]
        }
      ]
    },
    {
      "cell_type": "markdown",
      "metadata": {
        "id": "YGNLWOtPXRPy"
      },
      "source": [
        "## Train"
      ]
    },
    {
      "cell_type": "markdown",
      "metadata": {
        "id": "G3ScB58yXktf"
      },
      "source": [
        "How to train? : https://github.com/ultralytics/yolov5/wiki/Train-Custom-Data"
      ]
    },
    {
      "cell_type": "code",
      "metadata": {
        "colab": {
          "base_uri": "https://localhost:8080/"
        },
        "id": "c43GbwT2XBgb",
        "outputId": "af704333-9c93-41e5-f780-e55ec2bccda9"
      },
      "source": [
        "%cd /content/yolov5/\n",
        "\n",
        "!python train.py --img 416 --batch 16 --epochs 50 --data /content/dataset/data.yaml --cfg ./models/yolov5s.yaml --weights yolov5s.pt --name gun_yolov5s_results"
      ],
      "execution_count": null,
      "outputs": [
        {
          "output_type": "stream",
          "name": "stdout",
          "text": [
            "/content/yolov5\n",
            "Downloading https://ultralytics.com/assets/Arial.ttf to /root/.config/Ultralytics/Arial.ttf...\n",
            "\u001b[34m\u001b[1mtrain: \u001b[0mweights=yolov5s.pt, cfg=./models/yolov5s.yaml, data=/content/dataset/data.yaml, hyp=data/hyps/hyp.scratch.yaml, epochs=50, batch_size=16, imgsz=416, rect=False, resume=False, nosave=False, noval=False, noautoanchor=False, evolve=None, bucket=, cache=None, image_weights=False, device=, multi_scale=False, single_cls=False, adam=False, sync_bn=False, workers=8, project=runs/train, entity=None, name=gun_yolov5s_results, exist_ok=False, quad=False, linear_lr=False, label_smoothing=0.0, upload_dataset=False, bbox_interval=-1, save_period=-1, artifact_alias=latest, local_rank=-1, freeze=0, patience=100\n",
            "\u001b[34m\u001b[1mgithub: \u001b[0mup to date with https://github.com/ultralytics/yolov5 ✅\n",
            "YOLOv5 🚀 v5.0-455-g59aae85 torch 1.9.0+cu102 CUDA:0 (Tesla T4, 15109.75MB)\n",
            "\n",
            "\u001b[34m\u001b[1mhyperparameters: \u001b[0mlr0=0.01, lrf=0.2, momentum=0.937, weight_decay=0.0005, warmup_epochs=3.0, warmup_momentum=0.8, warmup_bias_lr=0.1, box=0.05, cls=0.5, cls_pw=1.0, obj=1.0, obj_pw=1.0, iou_t=0.2, anchor_t=4.0, fl_gamma=0.0, hsv_h=0.015, hsv_s=0.7, hsv_v=0.4, degrees=0.0, translate=0.1, scale=0.5, shear=0.0, perspective=0.0, flipud=0.0, fliplr=0.5, mosaic=1.0, mixup=0.0, copy_paste=0.0\n",
            "\u001b[34m\u001b[1mWeights & Biases: \u001b[0mrun 'pip install wandb' to automatically track and visualize YOLOv5 🚀 runs (RECOMMENDED)\n",
            "\u001b[34m\u001b[1mTensorBoard: \u001b[0mStart with 'tensorboard --logdir runs/train', view at http://localhost:6006/\n",
            "Downloading https://github.com/ultralytics/yolov5/releases/download/v5.0/yolov5s.pt to yolov5s.pt...\n",
            "100% 14.1M/14.1M [00:00<00:00, 68.6MB/s]\n",
            "\n",
            "Overriding model.yaml nc=80 with nc=1\n",
            "\n",
            "                 from  n    params  module                                  arguments                     \n",
            "  0                -1  1      3520  models.common.Focus                     [3, 32, 3]                    \n",
            "  1                -1  1     18560  models.common.Conv                      [32, 64, 3, 2]                \n",
            "  2                -1  1     18816  models.common.C3                        [64, 64, 1]                   \n",
            "  3                -1  1     73984  models.common.Conv                      [64, 128, 3, 2]               \n",
            "  4                -1  3    156928  models.common.C3                        [128, 128, 3]                 \n",
            "  5                -1  1    295424  models.common.Conv                      [128, 256, 3, 2]              \n",
            "  6                -1  3    625152  models.common.C3                        [256, 256, 3]                 \n",
            "  7                -1  1   1180672  models.common.Conv                      [256, 512, 3, 2]              \n",
            "  8                -1  1    656896  models.common.SPP                       [512, 512, [5, 9, 13]]        \n",
            "  9                -1  1   1182720  models.common.C3                        [512, 512, 1, False]          \n",
            " 10                -1  1    131584  models.common.Conv                      [512, 256, 1, 1]              \n",
            " 11                -1  1         0  torch.nn.modules.upsampling.Upsample    [None, 2, 'nearest']          \n",
            " 12           [-1, 6]  1         0  models.common.Concat                    [1]                           \n",
            " 13                -1  1    361984  models.common.C3                        [512, 256, 1, False]          \n",
            " 14                -1  1     33024  models.common.Conv                      [256, 128, 1, 1]              \n",
            " 15                -1  1         0  torch.nn.modules.upsampling.Upsample    [None, 2, 'nearest']          \n",
            " 16           [-1, 4]  1         0  models.common.Concat                    [1]                           \n",
            " 17                -1  1     90880  models.common.C3                        [256, 128, 1, False]          \n",
            " 18                -1  1    147712  models.common.Conv                      [128, 128, 3, 2]              \n",
            " 19          [-1, 14]  1         0  models.common.Concat                    [1]                           \n",
            " 20                -1  1    296448  models.common.C3                        [256, 256, 1, False]          \n",
            " 21                -1  1    590336  models.common.Conv                      [256, 256, 3, 2]              \n",
            " 22          [-1, 10]  1         0  models.common.Concat                    [1]                           \n",
            " 23                -1  1   1182720  models.common.C3                        [512, 512, 1, False]          \n",
            " 24      [17, 20, 23]  1     16182  models.yolo.Detect                      [1, [[10, 13, 16, 30, 33, 23], [30, 61, 62, 45, 59, 119], [116, 90, 156, 198, 373, 326]], [128, 256, 512]]\n",
            "Model Summary: 283 layers, 7063542 parameters, 7063542 gradients, 16.4 GFLOPs\n",
            "\n",
            "Transferred 354/362 items from yolov5s.pt\n",
            "Scaled weight_decay = 0.0005\n",
            "\u001b[34m\u001b[1moptimizer:\u001b[0m SGD with parameter groups 59 weight, 62 weight (no decay), 62 bias\n",
            "\u001b[34m\u001b[1malbumentations: \u001b[0mversion 1.0.3 required by YOLOv5, but version 0.1.12 is currently installed\n",
            "\u001b[34m\u001b[1mtrain: \u001b[0mScanning '/content/dataset/train' images and labels...2376 found, 0 missing, 0 empty, 0 corrupted: 100% 2376/2376 [00:00<00:00, 2720.59it/s]\n",
            "\u001b[34m\u001b[1mtrain: \u001b[0mNew cache created: /content/dataset/train.cache\n",
            "\u001b[34m\u001b[1mval: \u001b[0mScanning '/content/dataset/val' images and labels...595 found, 0 missing, 0 empty, 0 corrupted: 100% 595/595 [00:00<00:00, 1281.57it/s]\n",
            "\u001b[34m\u001b[1mval: \u001b[0mNew cache created: /content/dataset/val.cache\n",
            "[W pthreadpool-cpp.cc:90] Warning: Leaking Caffe2 thread-pool after fork. (function pthreadpool)\n",
            "[W pthreadpool-cpp.cc:90] Warning: Leaking Caffe2 thread-pool after fork. (function pthreadpool)\n",
            "Plotting labels... \n",
            "\n",
            "\u001b[34m\u001b[1mautoanchor: \u001b[0mAnalyzing anchors... anchors/target = 3.94, Best Possible Recall (BPR) = 1.0000\n",
            "Image sizes 416 train, 416 val\n",
            "Using 2 dataloader workers\n",
            "Logging results to \u001b[1mruns/train/gun_yolov5s_results\u001b[0m\n",
            "Starting training for 50 epochs...\n",
            "\n",
            "     Epoch   gpu_mem       box       obj       cls    labels  img_size\n",
            "      0/49     1.48G   0.09063   0.02216         0        24       416: 100% 149/149 [00:37<00:00,  3.93it/s]\n",
            "               Class     Images     Labels          P          R     mAP@.5 mAP@.5:.95: 100% 19/19 [00:04<00:00,  4.71it/s]\n",
            "                 all        595        644      0.633      0.466      0.485      0.221\n",
            "\n",
            "     Epoch   gpu_mem       box       obj       cls    labels  img_size\n",
            "      1/49     1.74G   0.05851   0.02147         0        15       416: 100% 149/149 [00:34<00:00,  4.31it/s]\n",
            "               Class     Images     Labels          P          R     mAP@.5 mAP@.5:.95: 100% 19/19 [00:03<00:00,  5.21it/s]\n",
            "                 all        595        644      0.664      0.622      0.644      0.318\n",
            "\n",
            "     Epoch   gpu_mem       box       obj       cls    labels  img_size\n",
            "      2/49     1.74G   0.04879    0.0191         0        21       416: 100% 149/149 [00:34<00:00,  4.34it/s]\n",
            "               Class     Images     Labels          P          R     mAP@.5 mAP@.5:.95: 100% 19/19 [00:03<00:00,  5.50it/s]\n",
            "                 all        595        644      0.847      0.758      0.845      0.509\n",
            "\n",
            "     Epoch   gpu_mem       box       obj       cls    labels  img_size\n",
            "      3/49     1.74G   0.04614   0.01753         0        15       416: 100% 149/149 [00:33<00:00,  4.39it/s]\n",
            "               Class     Images     Labels          P          R     mAP@.5 mAP@.5:.95: 100% 19/19 [00:03<00:00,  5.33it/s]\n",
            "                 all        595        644      0.862      0.744      0.835      0.515\n",
            "\n",
            "     Epoch   gpu_mem       box       obj       cls    labels  img_size\n",
            "      4/49     1.74G   0.04363   0.01732         0        16       416: 100% 149/149 [00:34<00:00,  4.37it/s]\n",
            "               Class     Images     Labels          P          R     mAP@.5 mAP@.5:.95: 100% 19/19 [00:03<00:00,  5.34it/s]\n",
            "                 all        595        644      0.851      0.759      0.855      0.519\n",
            "\n",
            "     Epoch   gpu_mem       box       obj       cls    labels  img_size\n",
            "      5/49     1.74G   0.04308   0.01661         0        20       416: 100% 149/149 [00:33<00:00,  4.41it/s]\n",
            "               Class     Images     Labels          P          R     mAP@.5 mAP@.5:.95: 100% 19/19 [00:03<00:00,  5.31it/s]\n",
            "                 all        595        644      0.725      0.705      0.749      0.441\n",
            "\n",
            "     Epoch   gpu_mem       box       obj       cls    labels  img_size\n",
            "      6/49     1.74G   0.04265   0.01738         0        20       416: 100% 149/149 [00:33<00:00,  4.44it/s]\n",
            "               Class     Images     Labels          P          R     mAP@.5 mAP@.5:.95: 100% 19/19 [00:03<00:00,  5.36it/s]\n",
            "                 all        595        644      0.729      0.655      0.723      0.341\n",
            "\n",
            "     Epoch   gpu_mem       box       obj       cls    labels  img_size\n",
            "      7/49     1.74G   0.04153   0.01729         0        29       416: 100% 149/149 [00:33<00:00,  4.45it/s]\n",
            "               Class     Images     Labels          P          R     mAP@.5 mAP@.5:.95: 100% 19/19 [00:03<00:00,  5.27it/s]\n",
            "                 all        595        644      0.847      0.711      0.808      0.503\n",
            "\n",
            "     Epoch   gpu_mem       box       obj       cls    labels  img_size\n",
            "      8/49     1.74G   0.04067   0.01705         0        16       416: 100% 149/149 [00:33<00:00,  4.49it/s]\n",
            "               Class     Images     Labels          P          R     mAP@.5 mAP@.5:.95: 100% 19/19 [00:03<00:00,  5.48it/s]\n",
            "                 all        595        644      0.805      0.679      0.772      0.466\n",
            "\n",
            "     Epoch   gpu_mem       box       obj       cls    labels  img_size\n",
            "      9/49     1.74G   0.03928   0.01708         0        24       416: 100% 149/149 [00:33<00:00,  4.51it/s]\n",
            "               Class     Images     Labels          P          R     mAP@.5 mAP@.5:.95: 100% 19/19 [00:03<00:00,  5.42it/s]\n",
            "                 all        595        644      0.819      0.727      0.808      0.504\n",
            "\n",
            "     Epoch   gpu_mem       box       obj       cls    labels  img_size\n",
            "     10/49     1.74G   0.03845   0.01662         0        16       416: 100% 149/149 [00:32<00:00,  4.53it/s]\n",
            "               Class     Images     Labels          P          R     mAP@.5 mAP@.5:.95: 100% 19/19 [00:03<00:00,  5.30it/s]\n",
            "                 all        595        644      0.858      0.762      0.863      0.516\n",
            "\n",
            "     Epoch   gpu_mem       box       obj       cls    labels  img_size\n",
            "     11/49     1.74G   0.03676   0.01603         0        18       416: 100% 149/149 [00:32<00:00,  4.53it/s]\n",
            "               Class     Images     Labels          P          R     mAP@.5 mAP@.5:.95: 100% 19/19 [00:03<00:00,  5.58it/s]\n",
            "                 all        595        644      0.864      0.748      0.859      0.559\n",
            "\n",
            "     Epoch   gpu_mem       box       obj       cls    labels  img_size\n",
            "     12/49     1.74G     0.036   0.01618         0        16       416: 100% 149/149 [00:32<00:00,  4.52it/s]\n",
            "               Class     Images     Labels          P          R     mAP@.5 mAP@.5:.95: 100% 19/19 [00:03<00:00,  5.35it/s]\n",
            "                 all        595        644      0.911      0.736      0.852       0.56\n",
            "\n",
            "     Epoch   gpu_mem       box       obj       cls    labels  img_size\n",
            "     13/49     1.74G   0.03554   0.01576         0        26       416: 100% 149/149 [00:33<00:00,  4.46it/s]\n",
            "               Class     Images     Labels          P          R     mAP@.5 mAP@.5:.95: 100% 19/19 [00:03<00:00,  5.51it/s]\n",
            "                 all        595        644      0.842      0.793      0.848      0.528\n",
            "\n",
            "     Epoch   gpu_mem       box       obj       cls    labels  img_size\n",
            "     14/49     1.74G   0.03496   0.01523         0        18       416: 100% 149/149 [00:32<00:00,  4.55it/s]\n",
            "               Class     Images     Labels          P          R     mAP@.5 mAP@.5:.95: 100% 19/19 [00:03<00:00,  5.25it/s]\n",
            "                 all        595        644      0.885      0.756      0.864      0.549\n",
            "\n",
            "     Epoch   gpu_mem       box       obj       cls    labels  img_size\n",
            "     15/49     1.74G   0.03474    0.0154         0        16       416: 100% 149/149 [00:33<00:00,  4.51it/s]\n",
            "               Class     Images     Labels          P          R     mAP@.5 mAP@.5:.95: 100% 19/19 [00:03<00:00,  5.58it/s]\n",
            "                 all        595        644      0.903      0.801        0.9      0.599\n",
            "\n",
            "     Epoch   gpu_mem       box       obj       cls    labels  img_size\n",
            "     16/49     1.74G   0.03365   0.01511         0        16       416: 100% 149/149 [00:32<00:00,  4.54it/s]\n",
            "               Class     Images     Labels          P          R     mAP@.5 mAP@.5:.95: 100% 19/19 [00:03<00:00,  5.36it/s]\n",
            "                 all        595        644      0.895      0.784      0.869      0.553\n",
            "\n",
            "     Epoch   gpu_mem       box       obj       cls    labels  img_size\n",
            "     17/49     1.74G   0.03343   0.01486         0        19       416: 100% 149/149 [00:32<00:00,  4.54it/s]\n",
            "               Class     Images     Labels          P          R     mAP@.5 mAP@.5:.95: 100% 19/19 [00:03<00:00,  5.36it/s]\n",
            "                 all        595        644      0.918       0.77      0.886      0.599\n",
            "\n",
            "     Epoch   gpu_mem       box       obj       cls    labels  img_size\n",
            "     18/49     1.74G   0.03243   0.01461         0        28       416: 100% 149/149 [00:32<00:00,  4.54it/s]\n",
            "               Class     Images     Labels          P          R     mAP@.5 mAP@.5:.95: 100% 19/19 [00:03<00:00,  5.31it/s]\n",
            "                 all        595        644      0.867      0.809      0.878       0.58\n",
            "\n",
            "     Epoch   gpu_mem       box       obj       cls    labels  img_size\n",
            "     19/49     1.74G   0.03196    0.0148         0        15       416: 100% 149/149 [00:32<00:00,  4.55it/s]\n",
            "               Class     Images     Labels          P          R     mAP@.5 mAP@.5:.95: 100% 19/19 [00:03<00:00,  5.17it/s]\n",
            "                 all        595        644      0.898      0.772      0.878      0.583\n",
            "\n",
            "     Epoch   gpu_mem       box       obj       cls    labels  img_size\n",
            "     20/49     1.74G   0.03135   0.01442         0        16       416: 100% 149/149 [00:32<00:00,  4.56it/s]\n",
            "               Class     Images     Labels          P          R     mAP@.5 mAP@.5:.95: 100% 19/19 [00:03<00:00,  5.33it/s]\n",
            "                 all        595        644      0.898      0.809      0.888      0.593\n",
            "\n",
            "     Epoch   gpu_mem       box       obj       cls    labels  img_size\n",
            "     21/49     1.74G   0.03124   0.01441         0        16       416: 100% 149/149 [00:33<00:00,  4.50it/s]\n",
            "               Class     Images     Labels          P          R     mAP@.5 mAP@.5:.95: 100% 19/19 [00:03<00:00,  5.46it/s]\n",
            "                 all        595        644      0.897      0.799       0.89      0.579\n",
            "\n",
            "     Epoch   gpu_mem       box       obj       cls    labels  img_size\n",
            "     22/49     1.74G   0.03145   0.01439         0        19       416: 100% 149/149 [00:33<00:00,  4.50it/s]\n",
            "               Class     Images     Labels          P          R     mAP@.5 mAP@.5:.95: 100% 19/19 [00:03<00:00,  5.67it/s]\n",
            "                 all        595        644      0.901      0.823      0.894        0.6\n",
            "\n",
            "     Epoch   gpu_mem       box       obj       cls    labels  img_size\n",
            "     23/49     1.74G   0.03073   0.01416         0        30       416: 100% 149/149 [00:32<00:00,  4.54it/s]\n",
            "               Class     Images     Labels          P          R     mAP@.5 mAP@.5:.95: 100% 19/19 [00:03<00:00,  5.51it/s]\n",
            "                 all        595        644      0.869      0.848      0.909      0.605\n",
            "\n",
            "     Epoch   gpu_mem       box       obj       cls    labels  img_size\n",
            "     24/49     1.74G   0.02958   0.01388         0        18       416: 100% 149/149 [00:32<00:00,  4.54it/s]\n",
            "               Class     Images     Labels          P          R     mAP@.5 mAP@.5:.95: 100% 19/19 [00:03<00:00,  5.35it/s]\n",
            "                 all        595        644      0.923      0.818      0.903      0.608\n",
            "\n",
            "     Epoch   gpu_mem       box       obj       cls    labels  img_size\n",
            "     25/49     1.74G   0.02885    0.0136         0        20       416: 100% 149/149 [00:32<00:00,  4.56it/s]\n",
            "               Class     Images     Labels          P          R     mAP@.5 mAP@.5:.95: 100% 19/19 [00:03<00:00,  5.73it/s]\n",
            "                 all        595        644       0.92      0.823       0.91      0.622\n",
            "\n",
            "     Epoch   gpu_mem       box       obj       cls    labels  img_size\n",
            "     26/49     1.74G   0.02882   0.01353         0        21       416: 100% 149/149 [00:32<00:00,  4.54it/s]\n",
            "               Class     Images     Labels          P          R     mAP@.5 mAP@.5:.95: 100% 19/19 [00:03<00:00,  5.44it/s]\n",
            "                 all        595        644      0.933      0.826      0.908      0.628\n",
            "\n",
            "     Epoch   gpu_mem       box       obj       cls    labels  img_size\n",
            "     27/49     1.74G   0.02883   0.01331         0        29       416: 100% 149/149 [00:32<00:00,  4.55it/s]\n",
            "               Class     Images     Labels          P          R     mAP@.5 mAP@.5:.95: 100% 19/19 [00:03<00:00,  5.38it/s]\n",
            "                 all        595        644      0.888       0.84      0.903      0.619\n",
            "\n",
            "     Epoch   gpu_mem       box       obj       cls    labels  img_size\n",
            "     28/49     1.74G   0.02831   0.01331         0        15       416: 100% 149/149 [00:32<00:00,  4.53it/s]\n",
            "               Class     Images     Labels          P          R     mAP@.5 mAP@.5:.95: 100% 19/19 [00:03<00:00,  5.52it/s]\n",
            "                 all        595        644      0.883      0.869       0.91      0.627\n",
            "\n",
            "     Epoch   gpu_mem       box       obj       cls    labels  img_size\n",
            "     29/49     1.74G   0.02847   0.01338         0        10       416: 100% 149/149 [00:33<00:00,  4.50it/s]\n",
            "               Class     Images     Labels          P          R     mAP@.5 mAP@.5:.95: 100% 19/19 [00:03<00:00,  5.63it/s]\n",
            "                 all        595        644      0.932      0.852      0.931      0.643\n",
            "\n",
            "     Epoch   gpu_mem       box       obj       cls    labels  img_size\n",
            "     30/49     1.74G   0.02791   0.01323         0        13       416: 100% 149/149 [00:32<00:00,  4.55it/s]\n",
            "               Class     Images     Labels          P          R     mAP@.5 mAP@.5:.95: 100% 19/19 [00:03<00:00,  5.58it/s]\n",
            "                 all        595        644       0.93      0.821      0.918      0.637\n",
            "\n",
            "     Epoch   gpu_mem       box       obj       cls    labels  img_size\n",
            "     31/49     1.74G   0.02745   0.01285         0        20       416: 100% 149/149 [00:33<00:00,  4.51it/s]\n",
            "               Class     Images     Labels          P          R     mAP@.5 mAP@.5:.95: 100% 19/19 [00:03<00:00,  5.52it/s]\n",
            "                 all        595        644      0.905      0.831      0.918      0.646\n",
            "\n",
            "     Epoch   gpu_mem       box       obj       cls    labels  img_size\n",
            "     32/49     1.74G   0.02735   0.01241         0        17       416: 100% 149/149 [00:32<00:00,  4.53it/s]\n",
            "               Class     Images     Labels          P          R     mAP@.5 mAP@.5:.95: 100% 19/19 [00:03<00:00,  5.54it/s]\n",
            "                 all        595        644      0.893      0.848      0.917       0.64\n",
            "\n",
            "     Epoch   gpu_mem       box       obj       cls    labels  img_size\n",
            "     33/49     1.74G   0.02673   0.01298         0        19       416: 100% 149/149 [00:32<00:00,  4.58it/s]\n",
            "               Class     Images     Labels          P          R     mAP@.5 mAP@.5:.95: 100% 19/19 [00:03<00:00,  5.38it/s]\n",
            "                 all        595        644      0.898      0.865      0.926      0.649\n",
            "\n",
            "     Epoch   gpu_mem       box       obj       cls    labels  img_size\n",
            "     34/49     1.74G   0.02674   0.01295         0        26       416: 100% 149/149 [00:32<00:00,  4.52it/s]\n",
            "               Class     Images     Labels          P          R     mAP@.5 mAP@.5:.95: 100% 19/19 [00:03<00:00,  5.62it/s]\n",
            "                 all        595        644      0.929      0.843      0.916      0.647\n",
            "\n",
            "     Epoch   gpu_mem       box       obj       cls    labels  img_size\n",
            "     35/49     1.74G   0.02607   0.01222         0        20       416: 100% 149/149 [00:32<00:00,  4.53it/s]\n",
            "               Class     Images     Labels          P          R     mAP@.5 mAP@.5:.95: 100% 19/19 [00:03<00:00,  5.42it/s]\n",
            "                 all        595        644      0.893      0.869       0.92      0.654\n",
            "\n",
            "     Epoch   gpu_mem       box       obj       cls    labels  img_size\n",
            "     36/49     1.74G   0.02528   0.01227         0        16       416: 100% 149/149 [00:32<00:00,  4.57it/s]\n",
            "               Class     Images     Labels          P          R     mAP@.5 mAP@.5:.95: 100% 19/19 [00:03<00:00,  5.49it/s]\n",
            "                 all        595        644      0.921      0.857      0.923      0.652\n",
            "\n",
            "     Epoch   gpu_mem       box       obj       cls    labels  img_size\n",
            "     37/49     1.74G   0.02548   0.01251         0        19       416: 100% 149/149 [00:32<00:00,  4.52it/s]\n",
            "               Class     Images     Labels          P          R     mAP@.5 mAP@.5:.95: 100% 19/19 [00:03<00:00,  5.55it/s]\n",
            "                 all        595        644      0.909      0.882      0.929      0.654\n",
            "\n",
            "     Epoch   gpu_mem       box       obj       cls    labels  img_size\n",
            "     38/49     1.74G   0.02509   0.01234         0        20       416: 100% 149/149 [00:33<00:00,  4.51it/s]\n",
            "               Class     Images     Labels          P          R     mAP@.5 mAP@.5:.95: 100% 19/19 [00:03<00:00,  5.68it/s]\n",
            "                 all        595        644       0.91      0.863      0.926      0.655\n",
            "\n",
            "     Epoch   gpu_mem       box       obj       cls    labels  img_size\n",
            "     39/49     1.74G   0.02481   0.01187         0        18       416: 100% 149/149 [00:32<00:00,  4.53it/s]\n",
            "               Class     Images     Labels          P          R     mAP@.5 mAP@.5:.95: 100% 19/19 [00:03<00:00,  5.47it/s]\n",
            "                 all        595        644      0.915      0.847      0.927      0.657\n",
            "\n",
            "     Epoch   gpu_mem       box       obj       cls    labels  img_size\n",
            "     40/49     1.74G   0.02423   0.01192         0        19       416: 100% 149/149 [00:33<00:00,  4.50it/s]\n",
            "               Class     Images     Labels          P          R     mAP@.5 mAP@.5:.95: 100% 19/19 [00:03<00:00,  5.44it/s]\n",
            "                 all        595        644      0.886      0.869      0.929      0.668\n",
            "\n",
            "     Epoch   gpu_mem       box       obj       cls    labels  img_size\n",
            "     41/49     1.74G   0.02507   0.01172         0        18       416: 100% 149/149 [00:32<00:00,  4.53it/s]\n",
            "               Class     Images     Labels          P          R     mAP@.5 mAP@.5:.95: 100% 19/19 [00:03<00:00,  5.51it/s]\n",
            "                 all        595        644        0.9      0.857      0.923      0.666\n",
            "\n",
            "     Epoch   gpu_mem       box       obj       cls    labels  img_size\n",
            "     42/49     1.74G   0.02419   0.01168         0        21       416: 100% 149/149 [00:33<00:00,  4.49it/s]\n",
            "               Class     Images     Labels          P          R     mAP@.5 mAP@.5:.95: 100% 19/19 [00:03<00:00,  5.53it/s]\n",
            "                 all        595        644      0.916      0.862       0.93      0.674\n",
            "\n",
            "     Epoch   gpu_mem       box       obj       cls    labels  img_size\n",
            "     43/49     1.74G   0.02441   0.01153         0        15       416: 100% 149/149 [00:32<00:00,  4.52it/s]\n",
            "               Class     Images     Labels          P          R     mAP@.5 mAP@.5:.95: 100% 19/19 [00:03<00:00,  5.51it/s]\n",
            "                 all        595        644      0.923      0.874      0.932       0.67\n",
            "\n",
            "     Epoch   gpu_mem       box       obj       cls    labels  img_size\n",
            "     44/49     1.74G   0.02407   0.01164         0        17       416: 100% 149/149 [00:33<00:00,  4.51it/s]\n",
            "               Class     Images     Labels          P          R     mAP@.5 mAP@.5:.95: 100% 19/19 [00:03<00:00,  5.52it/s]\n",
            "                 all        595        644      0.931      0.884      0.939      0.673\n",
            "\n",
            "     Epoch   gpu_mem       box       obj       cls    labels  img_size\n",
            "     45/49     1.74G   0.02376   0.01163         0        22       416: 100% 149/149 [00:33<00:00,  4.50it/s]\n",
            "               Class     Images     Labels          P          R     mAP@.5 mAP@.5:.95: 100% 19/19 [00:03<00:00,  5.60it/s]\n",
            "                 all        595        644      0.939      0.856      0.933      0.677\n",
            "\n",
            "     Epoch   gpu_mem       box       obj       cls    labels  img_size\n",
            "     46/49     1.74G   0.02382   0.01119         0        14       416: 100% 149/149 [00:32<00:00,  4.55it/s]\n",
            "               Class     Images     Labels          P          R     mAP@.5 mAP@.5:.95: 100% 19/19 [00:03<00:00,  5.38it/s]\n",
            "                 all        595        644      0.935      0.866       0.93      0.675\n",
            "\n",
            "     Epoch   gpu_mem       box       obj       cls    labels  img_size\n",
            "     47/49     1.74G   0.02323   0.01133         0        14       416: 100% 149/149 [00:33<00:00,  4.47it/s]\n",
            "               Class     Images     Labels          P          R     mAP@.5 mAP@.5:.95: 100% 19/19 [00:03<00:00,  5.22it/s]\n",
            "                 all        595        644      0.921      0.869      0.927      0.679\n",
            "\n",
            "     Epoch   gpu_mem       box       obj       cls    labels  img_size\n",
            "     48/49     1.74G   0.02385   0.01142         0        16       416: 100% 149/149 [00:33<00:00,  4.42it/s]\n",
            "               Class     Images     Labels          P          R     mAP@.5 mAP@.5:.95: 100% 19/19 [00:03<00:00,  5.41it/s]\n",
            "                 all        595        644      0.924      0.866      0.936       0.68\n",
            "\n",
            "     Epoch   gpu_mem       box       obj       cls    labels  img_size\n",
            "     49/49     1.74G   0.02301   0.01127         0        21       416: 100% 149/149 [00:33<00:00,  4.45it/s]\n",
            "               Class     Images     Labels          P          R     mAP@.5 mAP@.5:.95: 100% 19/19 [00:05<00:00,  3.49it/s]\n",
            "                 all        595        644      0.914       0.88      0.937      0.673\n",
            "\n",
            "50 epochs completed in 0.517 hours.\n",
            "Optimizer stripped from runs/train/gun_yolov5s_results/weights/last.pt, 14.4MB\n",
            "Optimizer stripped from runs/train/gun_yolov5s_results/weights/best.pt, 14.4MB\n",
            "Results saved to \u001b[1mruns/train/gun_yolov5s_results\u001b[0m\n"
          ]
        }
      ]
    },
    {
      "cell_type": "markdown",
      "metadata": {
        "id": "v6wiRyz5g5-2"
      },
      "source": [
        "__Check the result__"
      ]
    },
    {
      "cell_type": "code",
      "metadata": {
        "id": "FKWkdzrRXgIx"
      },
      "source": [
        "%load_ext tensorboard\n",
        "%tensorboard --logdir /content/yolov5/runs"
      ],
      "execution_count": null,
      "outputs": []
    },
    {
      "cell_type": "code",
      "metadata": {
        "id": "J1Kkxeuwg5qm"
      },
      "source": [
        "from IPython.display import Image\n",
        "import os\n",
        "\n",
        "val_img_path = val_img_list[0]"
      ],
      "execution_count": null,
      "outputs": []
    },
    {
      "cell_type": "code",
      "metadata": {
        "colab": {
          "base_uri": "https://localhost:8080/"
        },
        "id": "jjFLZU7BiSb5",
        "outputId": "300a730b-9e2f-48f4-c4fd-5b5accdbbc1c"
      },
      "source": [
        "%%time\n",
        "!python detect.py --weights /content/yolov5/runs/train/gun_yolov5s_results/weights/best.pt --img 416 --conf 0.5 --source \"{val_img_path}\""
      ],
      "execution_count": null,
      "outputs": [
        {
          "output_type": "stream",
          "name": "stdout",
          "text": [
            "\u001b[34m\u001b[1mdetect: \u001b[0mweights=['/content/yolov5/runs/train/gun_yolov5s_results/weights/best.pt'], source=/content/dataset/export/images/armas (1346)_jpg.rf.55466eca6eda54d716cc4a857ca353d3.jpg, imgsz=[416, 416], conf_thres=0.5, iou_thres=0.45, max_det=1000, device=, view_img=False, save_txt=False, save_conf=False, save_crop=False, nosave=False, classes=None, agnostic_nms=False, augment=False, visualize=False, update=False, project=runs/detect, name=exp, exist_ok=False, line_thickness=3, hide_labels=False, hide_conf=False, half=False\n",
            "YOLOv5 🚀 v5.0-455-g59aae85 torch 1.9.0+cu102 CUDA:0 (Tesla T4, 15109.75MB)\n",
            "\n",
            "Fusing layers... \n",
            "Model Summary: 224 layers, 7053910 parameters, 0 gradients, 16.3 GFLOPs\n",
            "image 1/1 /content/dataset/export/images/armas (1346)_jpg.rf.55466eca6eda54d716cc4a857ca353d3.jpg: 416x416 1 pistol, Done. (0.009s)\n",
            "Speed: 0.3ms pre-process, 9.1ms inference, 1.2ms NMS per image at shape (1, 3, 416, 416)\n",
            "Results saved to \u001b[1mruns/detect/exp2\u001b[0m\n",
            "CPU times: user 43 ms, sys: 14.2 ms, total: 57.2 ms\n",
            "Wall time: 5.65 s\n"
          ]
        }
      ]
    },
    {
      "cell_type": "code",
      "metadata": {
        "colab": {
          "base_uri": "https://localhost:8080/",
          "height": 433
        },
        "id": "3Sxj0jEhilXm",
        "outputId": "25d6d6e0-deaa-441f-d6ab-2596ba2ed0be"
      },
      "source": [
        "Image('/content/yolov5/runs/detect/exp/armas (1346)_jpg.rf.55466eca6eda54d716cc4a857ca353d3.jpg')"
      ],
      "execution_count": null,
      "outputs": [
        {
          "output_type": "execute_result",
          "data": {
            "image/jpeg": "[encoded data removed]",
            "text/plain": [
              "<IPython.core.display.Image object>"
            ]
          },
          "metadata": {},
          "execution_count": 11
        }
      ]
    }
  ]
}